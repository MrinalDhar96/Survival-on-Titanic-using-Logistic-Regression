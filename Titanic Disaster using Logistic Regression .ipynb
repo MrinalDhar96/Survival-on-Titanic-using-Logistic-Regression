{
 "cells": [
  {
   "cell_type": "markdown",
   "id": "a0633621",
   "metadata": {},
   "source": [
    "# The Challenge\n",
    "The sinking of the Titanic is one of the most infamous shipwrecks in history.\n",
    "\n",
    "On April 15, 1912, during her maiden voyage, the widely considered “unsinkable” RMS Titanic sank after colliding with an iceberg. Unfortunately, there weren’t enough lifeboats for everyone onboard, resulting in the death of 1502 out of 2224 passengers and crew.\n",
    "\n",
    "While there was some element of luck involved in surviving, it seems some groups of people were more likely to survive than others.\n",
    "\n",
    "In this challenge, we ask you to build a predictive model that answers the question: “what sorts of people were more likely to survive?” using passenger data (ie name, age, gender, socio-economic class, etc)."
   ]
  },
  {
   "cell_type": "code",
   "execution_count": 47,
   "id": "be5930c8",
   "metadata": {},
   "outputs": [],
   "source": [
    "# Importing basic libraries\n",
    "\n",
    "import pandas as pd\n",
    "import numpy as np\n",
    "import seaborn as sns\n",
    "import matplotlib.pyplot as plt\n",
    "\n",
    "# Importing sklearn libraries for Prediction and Test - Train Split\n",
    "\n",
    "from sklearn.model_selection import train_test_split\n",
    "from sklearn.linear_model import LogisticRegression\n",
    "from sklearn.metrics import confusion_matrix\n",
    "from sklearn.metrics import accuracy_score\n",
    "from sklearn.preprocessing import StandardScaler"
   ]
  },
  {
   "cell_type": "code",
   "execution_count": 48,
   "id": "9d2b9591",
   "metadata": {},
   "outputs": [],
   "source": [
    "# Importing the test data and train data for Titanic Challenge\n",
    "\n",
    "titanic_train_data = pd.read_csv('train.csv')\n",
    "\n",
    "titanic_test_data = pd.read_csv('test.csv')\n",
    "\n",
    "titanic_test_id = titanic_test_data.PassengerId"
   ]
  },
  {
   "cell_type": "markdown",
   "id": "6002b376",
   "metadata": {},
   "source": [
    "# 1 - Data Preparation and Data Cleaning"
   ]
  },
  {
   "cell_type": "code",
   "execution_count": 49,
   "id": "21b9cf3d",
   "metadata": {},
   "outputs": [
    {
     "data": {
      "text/html": [
       "<div>\n",
       "<style scoped>\n",
       "    .dataframe tbody tr th:only-of-type {\n",
       "        vertical-align: middle;\n",
       "    }\n",
       "\n",
       "    .dataframe tbody tr th {\n",
       "        vertical-align: top;\n",
       "    }\n",
       "\n",
       "    .dataframe thead th {\n",
       "        text-align: right;\n",
       "    }\n",
       "</style>\n",
       "<table border=\"1\" class=\"dataframe\">\n",
       "  <thead>\n",
       "    <tr style=\"text-align: right;\">\n",
       "      <th></th>\n",
       "      <th>PassengerId</th>\n",
       "      <th>Survived</th>\n",
       "      <th>Pclass</th>\n",
       "      <th>Name</th>\n",
       "      <th>Sex</th>\n",
       "      <th>Age</th>\n",
       "      <th>SibSp</th>\n",
       "      <th>Parch</th>\n",
       "      <th>Ticket</th>\n",
       "      <th>Fare</th>\n",
       "      <th>Cabin</th>\n",
       "      <th>Embarked</th>\n",
       "    </tr>\n",
       "  </thead>\n",
       "  <tbody>\n",
       "    <tr>\n",
       "      <th>0</th>\n",
       "      <td>1</td>\n",
       "      <td>0</td>\n",
       "      <td>3</td>\n",
       "      <td>Braund, Mr. Owen Harris</td>\n",
       "      <td>male</td>\n",
       "      <td>22.0</td>\n",
       "      <td>1</td>\n",
       "      <td>0</td>\n",
       "      <td>A/5 21171</td>\n",
       "      <td>7.2500</td>\n",
       "      <td>NaN</td>\n",
       "      <td>S</td>\n",
       "    </tr>\n",
       "    <tr>\n",
       "      <th>1</th>\n",
       "      <td>2</td>\n",
       "      <td>1</td>\n",
       "      <td>1</td>\n",
       "      <td>Cumings, Mrs. John Bradley (Florence Briggs Th...</td>\n",
       "      <td>female</td>\n",
       "      <td>38.0</td>\n",
       "      <td>1</td>\n",
       "      <td>0</td>\n",
       "      <td>PC 17599</td>\n",
       "      <td>71.2833</td>\n",
       "      <td>C85</td>\n",
       "      <td>C</td>\n",
       "    </tr>\n",
       "    <tr>\n",
       "      <th>2</th>\n",
       "      <td>3</td>\n",
       "      <td>1</td>\n",
       "      <td>3</td>\n",
       "      <td>Heikkinen, Miss. Laina</td>\n",
       "      <td>female</td>\n",
       "      <td>26.0</td>\n",
       "      <td>0</td>\n",
       "      <td>0</td>\n",
       "      <td>STON/O2. 3101282</td>\n",
       "      <td>7.9250</td>\n",
       "      <td>NaN</td>\n",
       "      <td>S</td>\n",
       "    </tr>\n",
       "    <tr>\n",
       "      <th>3</th>\n",
       "      <td>4</td>\n",
       "      <td>1</td>\n",
       "      <td>1</td>\n",
       "      <td>Futrelle, Mrs. Jacques Heath (Lily May Peel)</td>\n",
       "      <td>female</td>\n",
       "      <td>35.0</td>\n",
       "      <td>1</td>\n",
       "      <td>0</td>\n",
       "      <td>113803</td>\n",
       "      <td>53.1000</td>\n",
       "      <td>C123</td>\n",
       "      <td>S</td>\n",
       "    </tr>\n",
       "    <tr>\n",
       "      <th>4</th>\n",
       "      <td>5</td>\n",
       "      <td>0</td>\n",
       "      <td>3</td>\n",
       "      <td>Allen, Mr. William Henry</td>\n",
       "      <td>male</td>\n",
       "      <td>35.0</td>\n",
       "      <td>0</td>\n",
       "      <td>0</td>\n",
       "      <td>373450</td>\n",
       "      <td>8.0500</td>\n",
       "      <td>NaN</td>\n",
       "      <td>S</td>\n",
       "    </tr>\n",
       "  </tbody>\n",
       "</table>\n",
       "</div>"
      ],
      "text/plain": [
       "   PassengerId  Survived  Pclass  \\\n",
       "0            1         0       3   \n",
       "1            2         1       1   \n",
       "2            3         1       3   \n",
       "3            4         1       1   \n",
       "4            5         0       3   \n",
       "\n",
       "                                                Name     Sex   Age  SibSp  \\\n",
       "0                            Braund, Mr. Owen Harris    male  22.0      1   \n",
       "1  Cumings, Mrs. John Bradley (Florence Briggs Th...  female  38.0      1   \n",
       "2                             Heikkinen, Miss. Laina  female  26.0      0   \n",
       "3       Futrelle, Mrs. Jacques Heath (Lily May Peel)  female  35.0      1   \n",
       "4                           Allen, Mr. William Henry    male  35.0      0   \n",
       "\n",
       "   Parch            Ticket     Fare Cabin Embarked  \n",
       "0      0         A/5 21171   7.2500   NaN        S  \n",
       "1      0          PC 17599  71.2833   C85        C  \n",
       "2      0  STON/O2. 3101282   7.9250   NaN        S  \n",
       "3      0            113803  53.1000  C123        S  \n",
       "4      0            373450   8.0500   NaN        S  "
      ]
     },
     "execution_count": 49,
     "metadata": {},
     "output_type": "execute_result"
    }
   ],
   "source": [
    "# Checking the Head of Train Data \n",
    "\n",
    "titanic_train_data.head()"
   ]
  },
  {
   "cell_type": "code",
   "execution_count": 50,
   "id": "c243ccc2",
   "metadata": {},
   "outputs": [
    {
     "data": {
      "text/html": [
       "<div>\n",
       "<style scoped>\n",
       "    .dataframe tbody tr th:only-of-type {\n",
       "        vertical-align: middle;\n",
       "    }\n",
       "\n",
       "    .dataframe tbody tr th {\n",
       "        vertical-align: top;\n",
       "    }\n",
       "\n",
       "    .dataframe thead th {\n",
       "        text-align: right;\n",
       "    }\n",
       "</style>\n",
       "<table border=\"1\" class=\"dataframe\">\n",
       "  <thead>\n",
       "    <tr style=\"text-align: right;\">\n",
       "      <th></th>\n",
       "      <th>PassengerId</th>\n",
       "      <th>Pclass</th>\n",
       "      <th>Name</th>\n",
       "      <th>Sex</th>\n",
       "      <th>Age</th>\n",
       "      <th>SibSp</th>\n",
       "      <th>Parch</th>\n",
       "      <th>Ticket</th>\n",
       "      <th>Fare</th>\n",
       "      <th>Cabin</th>\n",
       "      <th>Embarked</th>\n",
       "    </tr>\n",
       "  </thead>\n",
       "  <tbody>\n",
       "    <tr>\n",
       "      <th>0</th>\n",
       "      <td>892</td>\n",
       "      <td>3</td>\n",
       "      <td>Kelly, Mr. James</td>\n",
       "      <td>male</td>\n",
       "      <td>34.5</td>\n",
       "      <td>0</td>\n",
       "      <td>0</td>\n",
       "      <td>330911</td>\n",
       "      <td>7.8292</td>\n",
       "      <td>NaN</td>\n",
       "      <td>Q</td>\n",
       "    </tr>\n",
       "    <tr>\n",
       "      <th>1</th>\n",
       "      <td>893</td>\n",
       "      <td>3</td>\n",
       "      <td>Wilkes, Mrs. James (Ellen Needs)</td>\n",
       "      <td>female</td>\n",
       "      <td>47.0</td>\n",
       "      <td>1</td>\n",
       "      <td>0</td>\n",
       "      <td>363272</td>\n",
       "      <td>7.0000</td>\n",
       "      <td>NaN</td>\n",
       "      <td>S</td>\n",
       "    </tr>\n",
       "    <tr>\n",
       "      <th>2</th>\n",
       "      <td>894</td>\n",
       "      <td>2</td>\n",
       "      <td>Myles, Mr. Thomas Francis</td>\n",
       "      <td>male</td>\n",
       "      <td>62.0</td>\n",
       "      <td>0</td>\n",
       "      <td>0</td>\n",
       "      <td>240276</td>\n",
       "      <td>9.6875</td>\n",
       "      <td>NaN</td>\n",
       "      <td>Q</td>\n",
       "    </tr>\n",
       "    <tr>\n",
       "      <th>3</th>\n",
       "      <td>895</td>\n",
       "      <td>3</td>\n",
       "      <td>Wirz, Mr. Albert</td>\n",
       "      <td>male</td>\n",
       "      <td>27.0</td>\n",
       "      <td>0</td>\n",
       "      <td>0</td>\n",
       "      <td>315154</td>\n",
       "      <td>8.6625</td>\n",
       "      <td>NaN</td>\n",
       "      <td>S</td>\n",
       "    </tr>\n",
       "    <tr>\n",
       "      <th>4</th>\n",
       "      <td>896</td>\n",
       "      <td>3</td>\n",
       "      <td>Hirvonen, Mrs. Alexander (Helga E Lindqvist)</td>\n",
       "      <td>female</td>\n",
       "      <td>22.0</td>\n",
       "      <td>1</td>\n",
       "      <td>1</td>\n",
       "      <td>3101298</td>\n",
       "      <td>12.2875</td>\n",
       "      <td>NaN</td>\n",
       "      <td>S</td>\n",
       "    </tr>\n",
       "  </tbody>\n",
       "</table>\n",
       "</div>"
      ],
      "text/plain": [
       "   PassengerId  Pclass                                          Name     Sex  \\\n",
       "0          892       3                              Kelly, Mr. James    male   \n",
       "1          893       3              Wilkes, Mrs. James (Ellen Needs)  female   \n",
       "2          894       2                     Myles, Mr. Thomas Francis    male   \n",
       "3          895       3                              Wirz, Mr. Albert    male   \n",
       "4          896       3  Hirvonen, Mrs. Alexander (Helga E Lindqvist)  female   \n",
       "\n",
       "    Age  SibSp  Parch   Ticket     Fare Cabin Embarked  \n",
       "0  34.5      0      0   330911   7.8292   NaN        Q  \n",
       "1  47.0      1      0   363272   7.0000   NaN        S  \n",
       "2  62.0      0      0   240276   9.6875   NaN        Q  \n",
       "3  27.0      0      0   315154   8.6625   NaN        S  \n",
       "4  22.0      1      1  3101298  12.2875   NaN        S  "
      ]
     },
     "execution_count": 50,
     "metadata": {},
     "output_type": "execute_result"
    }
   ],
   "source": [
    "# Checking the Head of Test Data \n",
    "\n",
    "titanic_test_data.head()"
   ]
  },
  {
   "cell_type": "code",
   "execution_count": 51,
   "id": "07bc5f79",
   "metadata": {},
   "outputs": [
    {
     "data": {
      "text/plain": [
       "(891, 12)"
      ]
     },
     "execution_count": 51,
     "metadata": {},
     "output_type": "execute_result"
    }
   ],
   "source": [
    "# Checking the Shape of Train Data\n",
    "\n",
    "titanic_train_data.shape"
   ]
  },
  {
   "cell_type": "code",
   "execution_count": 52,
   "id": "9ed2f4f3",
   "metadata": {},
   "outputs": [
    {
     "data": {
      "text/plain": [
       "(418, 11)"
      ]
     },
     "execution_count": 52,
     "metadata": {},
     "output_type": "execute_result"
    }
   ],
   "source": [
    "# Checking the Shape of Test Data\n",
    "\n",
    "titanic_test_data.shape"
   ]
  },
  {
   "cell_type": "code",
   "execution_count": 53,
   "id": "fd581f31",
   "metadata": {},
   "outputs": [
    {
     "data": {
      "text/plain": [
       "PassengerId      0\n",
       "Survived         0\n",
       "Pclass           0\n",
       "Name             0\n",
       "Sex              0\n",
       "Age            177\n",
       "SibSp            0\n",
       "Parch            0\n",
       "Ticket           0\n",
       "Fare             0\n",
       "Cabin          687\n",
       "Embarked         2\n",
       "dtype: int64"
      ]
     },
     "execution_count": 53,
     "metadata": {},
     "output_type": "execute_result"
    }
   ],
   "source": [
    "# Checking for null values in Train Data\n",
    "\n",
    "titanic_train_data.isnull().sum()"
   ]
  },
  {
   "cell_type": "code",
   "execution_count": 54,
   "id": "e0e39f27",
   "metadata": {},
   "outputs": [
    {
     "data": {
      "text/plain": [
       "PassengerId      0\n",
       "Pclass           0\n",
       "Name             0\n",
       "Sex              0\n",
       "Age             86\n",
       "SibSp            0\n",
       "Parch            0\n",
       "Ticket           0\n",
       "Fare             1\n",
       "Cabin          327\n",
       "Embarked         0\n",
       "dtype: int64"
      ]
     },
     "execution_count": 54,
     "metadata": {},
     "output_type": "execute_result"
    }
   ],
   "source": [
    "# Checking for null values in Test Data\n",
    "\n",
    "titanic_test_data.isnull().sum()"
   ]
  },
  {
   "cell_type": "markdown",
   "id": "137c9823",
   "metadata": {},
   "source": [
    "### Let's drop the Cabin variable, since it has too many missing values"
   ]
  },
  {
   "cell_type": "code",
   "execution_count": 55,
   "id": "0f03f6d2",
   "metadata": {},
   "outputs": [],
   "source": [
    "# Dropping the Cabin Column from Train Data\n",
    "\n",
    "titanic_train_data = titanic_train_data.drop('Cabin', axis=1) "
   ]
  },
  {
   "cell_type": "code",
   "execution_count": 56,
   "id": "e2ee59e2",
   "metadata": {},
   "outputs": [],
   "source": [
    "# Dropping the Cabin Column from Test Data\n",
    "\n",
    "titanic_test_data = titanic_test_data.drop('Cabin', axis=1) "
   ]
  },
  {
   "cell_type": "code",
   "execution_count": 57,
   "id": "defc8e80",
   "metadata": {},
   "outputs": [
    {
     "data": {
      "text/html": [
       "<div>\n",
       "<style scoped>\n",
       "    .dataframe tbody tr th:only-of-type {\n",
       "        vertical-align: middle;\n",
       "    }\n",
       "\n",
       "    .dataframe tbody tr th {\n",
       "        vertical-align: top;\n",
       "    }\n",
       "\n",
       "    .dataframe thead th {\n",
       "        text-align: right;\n",
       "    }\n",
       "</style>\n",
       "<table border=\"1\" class=\"dataframe\">\n",
       "  <thead>\n",
       "    <tr style=\"text-align: right;\">\n",
       "      <th></th>\n",
       "      <th>PassengerId</th>\n",
       "      <th>Survived</th>\n",
       "      <th>Pclass</th>\n",
       "      <th>Name</th>\n",
       "      <th>Sex</th>\n",
       "      <th>Age</th>\n",
       "      <th>SibSp</th>\n",
       "      <th>Parch</th>\n",
       "      <th>Ticket</th>\n",
       "      <th>Fare</th>\n",
       "      <th>Embarked</th>\n",
       "    </tr>\n",
       "  </thead>\n",
       "  <tbody>\n",
       "    <tr>\n",
       "      <th>0</th>\n",
       "      <td>1</td>\n",
       "      <td>0</td>\n",
       "      <td>3</td>\n",
       "      <td>Braund, Mr. Owen Harris</td>\n",
       "      <td>male</td>\n",
       "      <td>22.0</td>\n",
       "      <td>1</td>\n",
       "      <td>0</td>\n",
       "      <td>A/5 21171</td>\n",
       "      <td>7.2500</td>\n",
       "      <td>S</td>\n",
       "    </tr>\n",
       "    <tr>\n",
       "      <th>1</th>\n",
       "      <td>2</td>\n",
       "      <td>1</td>\n",
       "      <td>1</td>\n",
       "      <td>Cumings, Mrs. John Bradley (Florence Briggs Th...</td>\n",
       "      <td>female</td>\n",
       "      <td>38.0</td>\n",
       "      <td>1</td>\n",
       "      <td>0</td>\n",
       "      <td>PC 17599</td>\n",
       "      <td>71.2833</td>\n",
       "      <td>C</td>\n",
       "    </tr>\n",
       "    <tr>\n",
       "      <th>2</th>\n",
       "      <td>3</td>\n",
       "      <td>1</td>\n",
       "      <td>3</td>\n",
       "      <td>Heikkinen, Miss. Laina</td>\n",
       "      <td>female</td>\n",
       "      <td>26.0</td>\n",
       "      <td>0</td>\n",
       "      <td>0</td>\n",
       "      <td>STON/O2. 3101282</td>\n",
       "      <td>7.9250</td>\n",
       "      <td>S</td>\n",
       "    </tr>\n",
       "    <tr>\n",
       "      <th>3</th>\n",
       "      <td>4</td>\n",
       "      <td>1</td>\n",
       "      <td>1</td>\n",
       "      <td>Futrelle, Mrs. Jacques Heath (Lily May Peel)</td>\n",
       "      <td>female</td>\n",
       "      <td>35.0</td>\n",
       "      <td>1</td>\n",
       "      <td>0</td>\n",
       "      <td>113803</td>\n",
       "      <td>53.1000</td>\n",
       "      <td>S</td>\n",
       "    </tr>\n",
       "    <tr>\n",
       "      <th>4</th>\n",
       "      <td>5</td>\n",
       "      <td>0</td>\n",
       "      <td>3</td>\n",
       "      <td>Allen, Mr. William Henry</td>\n",
       "      <td>male</td>\n",
       "      <td>35.0</td>\n",
       "      <td>0</td>\n",
       "      <td>0</td>\n",
       "      <td>373450</td>\n",
       "      <td>8.0500</td>\n",
       "      <td>S</td>\n",
       "    </tr>\n",
       "  </tbody>\n",
       "</table>\n",
       "</div>"
      ],
      "text/plain": [
       "   PassengerId  Survived  Pclass  \\\n",
       "0            1         0       3   \n",
       "1            2         1       1   \n",
       "2            3         1       3   \n",
       "3            4         1       1   \n",
       "4            5         0       3   \n",
       "\n",
       "                                                Name     Sex   Age  SibSp  \\\n",
       "0                            Braund, Mr. Owen Harris    male  22.0      1   \n",
       "1  Cumings, Mrs. John Bradley (Florence Briggs Th...  female  38.0      1   \n",
       "2                             Heikkinen, Miss. Laina  female  26.0      0   \n",
       "3       Futrelle, Mrs. Jacques Heath (Lily May Peel)  female  35.0      1   \n",
       "4                           Allen, Mr. William Henry    male  35.0      0   \n",
       "\n",
       "   Parch            Ticket     Fare Embarked  \n",
       "0      0         A/5 21171   7.2500        S  \n",
       "1      0          PC 17599  71.2833        C  \n",
       "2      0  STON/O2. 3101282   7.9250        S  \n",
       "3      0            113803  53.1000        S  \n",
       "4      0            373450   8.0500        S  "
      ]
     },
     "execution_count": 57,
     "metadata": {},
     "output_type": "execute_result"
    }
   ],
   "source": [
    "# Checking the Head of Train Data Again\n",
    "\n",
    "titanic_train_data.head()"
   ]
  },
  {
   "cell_type": "code",
   "execution_count": 58,
   "id": "6fc7249f",
   "metadata": {},
   "outputs": [
    {
     "data": {
      "text/html": [
       "<div>\n",
       "<style scoped>\n",
       "    .dataframe tbody tr th:only-of-type {\n",
       "        vertical-align: middle;\n",
       "    }\n",
       "\n",
       "    .dataframe tbody tr th {\n",
       "        vertical-align: top;\n",
       "    }\n",
       "\n",
       "    .dataframe thead th {\n",
       "        text-align: right;\n",
       "    }\n",
       "</style>\n",
       "<table border=\"1\" class=\"dataframe\">\n",
       "  <thead>\n",
       "    <tr style=\"text-align: right;\">\n",
       "      <th></th>\n",
       "      <th>PassengerId</th>\n",
       "      <th>Pclass</th>\n",
       "      <th>Name</th>\n",
       "      <th>Sex</th>\n",
       "      <th>Age</th>\n",
       "      <th>SibSp</th>\n",
       "      <th>Parch</th>\n",
       "      <th>Ticket</th>\n",
       "      <th>Fare</th>\n",
       "      <th>Embarked</th>\n",
       "    </tr>\n",
       "  </thead>\n",
       "  <tbody>\n",
       "    <tr>\n",
       "      <th>0</th>\n",
       "      <td>892</td>\n",
       "      <td>3</td>\n",
       "      <td>Kelly, Mr. James</td>\n",
       "      <td>male</td>\n",
       "      <td>34.5</td>\n",
       "      <td>0</td>\n",
       "      <td>0</td>\n",
       "      <td>330911</td>\n",
       "      <td>7.8292</td>\n",
       "      <td>Q</td>\n",
       "    </tr>\n",
       "    <tr>\n",
       "      <th>1</th>\n",
       "      <td>893</td>\n",
       "      <td>3</td>\n",
       "      <td>Wilkes, Mrs. James (Ellen Needs)</td>\n",
       "      <td>female</td>\n",
       "      <td>47.0</td>\n",
       "      <td>1</td>\n",
       "      <td>0</td>\n",
       "      <td>363272</td>\n",
       "      <td>7.0000</td>\n",
       "      <td>S</td>\n",
       "    </tr>\n",
       "    <tr>\n",
       "      <th>2</th>\n",
       "      <td>894</td>\n",
       "      <td>2</td>\n",
       "      <td>Myles, Mr. Thomas Francis</td>\n",
       "      <td>male</td>\n",
       "      <td>62.0</td>\n",
       "      <td>0</td>\n",
       "      <td>0</td>\n",
       "      <td>240276</td>\n",
       "      <td>9.6875</td>\n",
       "      <td>Q</td>\n",
       "    </tr>\n",
       "    <tr>\n",
       "      <th>3</th>\n",
       "      <td>895</td>\n",
       "      <td>3</td>\n",
       "      <td>Wirz, Mr. Albert</td>\n",
       "      <td>male</td>\n",
       "      <td>27.0</td>\n",
       "      <td>0</td>\n",
       "      <td>0</td>\n",
       "      <td>315154</td>\n",
       "      <td>8.6625</td>\n",
       "      <td>S</td>\n",
       "    </tr>\n",
       "    <tr>\n",
       "      <th>4</th>\n",
       "      <td>896</td>\n",
       "      <td>3</td>\n",
       "      <td>Hirvonen, Mrs. Alexander (Helga E Lindqvist)</td>\n",
       "      <td>female</td>\n",
       "      <td>22.0</td>\n",
       "      <td>1</td>\n",
       "      <td>1</td>\n",
       "      <td>3101298</td>\n",
       "      <td>12.2875</td>\n",
       "      <td>S</td>\n",
       "    </tr>\n",
       "  </tbody>\n",
       "</table>\n",
       "</div>"
      ],
      "text/plain": [
       "   PassengerId  Pclass                                          Name     Sex  \\\n",
       "0          892       3                              Kelly, Mr. James    male   \n",
       "1          893       3              Wilkes, Mrs. James (Ellen Needs)  female   \n",
       "2          894       2                     Myles, Mr. Thomas Francis    male   \n",
       "3          895       3                              Wirz, Mr. Albert    male   \n",
       "4          896       3  Hirvonen, Mrs. Alexander (Helga E Lindqvist)  female   \n",
       "\n",
       "    Age  SibSp  Parch   Ticket     Fare Embarked  \n",
       "0  34.5      0      0   330911   7.8292        Q  \n",
       "1  47.0      1      0   363272   7.0000        S  \n",
       "2  62.0      0      0   240276   9.6875        Q  \n",
       "3  27.0      0      0   315154   8.6625        S  \n",
       "4  22.0      1      1  3101298  12.2875        S  "
      ]
     },
     "execution_count": 58,
     "metadata": {},
     "output_type": "execute_result"
    }
   ],
   "source": [
    "# Checking the Head of Train Data Again\n",
    "\n",
    "titanic_test_data.head()"
   ]
  },
  {
   "cell_type": "code",
   "execution_count": 59,
   "id": "e6310f2b",
   "metadata": {},
   "outputs": [
    {
     "name": "stderr",
     "output_type": "stream",
     "text": [
      "C:\\Users\\Mrinal Dhar\\anaconda3\\lib\\site-packages\\seaborn\\distributions.py:2557: FutureWarning: `distplot` is a deprecated function and will be removed in a future version. Please adapt your code to use either `displot` (a figure-level function with similar flexibility) or `histplot` (an axes-level function for histograms).\n",
      "  warnings.warn(msg, FutureWarning)\n"
     ]
    },
    {
     "data": {
      "image/png": "[encoded data removed]",
      "text/plain": [
       "<Figure size 864x648 with 1 Axes>"
      ]
     },
     "metadata": {
      "needs_background": "light"
     },
     "output_type": "display_data"
    }
   ],
   "source": [
    "# Checking the Age Distribution \n",
    "\n",
    "# Setting the Figure Size\n",
    "\n",
    "plt.figure(figsize=(12, 9))\n",
    "\n",
    "# Using Heatmap\n",
    "\n",
    "sns.distplot(titanic_train_data[\"Age\"])\n",
    "\n",
    "# Plotting the Heatmap\n",
    "\n",
    "plt.show()"
   ]
  },
  {
   "cell_type": "markdown",
   "id": "ee54c731",
   "metadata": {},
   "source": [
    "### Inference\n",
    "\n",
    "Here we can see that the data is right skewed , so we would prefer to take the median for the missing values in the Age Column."
   ]
  },
  {
   "cell_type": "markdown",
   "id": "7840d242",
   "metadata": {},
   "source": [
    "# 2 - Outlier Treatment"
   ]
  },
  {
   "cell_type": "code",
   "execution_count": 60,
   "id": "ea819136",
   "metadata": {},
   "outputs": [
    {
     "data": {
      "image/png": "[encoded data removed]",
      "text/plain": [
       "<Figure size 864x648 with 1 Axes>"
      ]
     },
     "metadata": {
      "needs_background": "light"
     },
     "output_type": "display_data"
    }
   ],
   "source": [
    "# Setting the Figure Size\n",
    "\n",
    "plt.figure(figsize=(12, 9))\n",
    "\n",
    "# Checking for outliers in Age Column\n",
    "\n",
    "sns.boxplot( x=\"Age\", data= titanic_train_data )\n",
    "\n",
    "# Plotting the Box Plot\n",
    "\n",
    "plt.show()"
   ]
  },
  {
   "cell_type": "markdown",
   "id": "9f0decdc",
   "metadata": {},
   "source": [
    "### Inference\n",
    "\n",
    "From the above boxplot we can observe that , there are some outliers we need to handle."
   ]
  },
  {
   "cell_type": "code",
   "execution_count": 61,
   "id": "c1c13f7d",
   "metadata": {},
   "outputs": [
    {
     "data": {
      "text/plain": [
       "[80.0, 74.0]"
      ]
     },
     "execution_count": 61,
     "metadata": {},
     "output_type": "execute_result"
    }
   ],
   "source": [
    "# Using Z-Score to remove the outliers for the Train Data\n",
    "\n",
    "outliers=[]\n",
    "\n",
    "def age_outliers(data):\n",
    "    \n",
    "    threshold = 3\n",
    "    \n",
    "    mean = np.mean(data)\n",
    "    \n",
    "    std = np.std(data)\n",
    "    \n",
    "    for i in data:\n",
    "        \n",
    "        Z_score = (i-mean)/std\n",
    "        \n",
    "        if np.abs(Z_score)>threshold:\n",
    "            \n",
    "            outliers.append(i)\n",
    "    \n",
    "    return outliers\n",
    "\n",
    "\n",
    "age_outliers( titanic_train_data[\"Age\"] )"
   ]
  },
  {
   "cell_type": "code",
   "execution_count": 62,
   "id": "fedcd930",
   "metadata": {},
   "outputs": [],
   "source": [
    "# Outliers Removal \n",
    "\n",
    "for i in range(len(titanic_train_data[\"Age\"])):\n",
    "    \n",
    "    # Dropping all Ages whose had Z-Score higher than the threshold and are appending into the Outliers List\n",
    "    \n",
    "    if(titanic_train_data[\"Age\"][i] in outliers):\n",
    "        \n",
    "        titanic_train_data = titanic_train_data.drop(i)"
   ]
  },
  {
   "cell_type": "code",
   "execution_count": 63,
   "id": "738a3a87",
   "metadata": {},
   "outputs": [
    {
     "data": {
      "image/png": "[encoded data removed]",
      "text/plain": [
       "<Figure size 864x648 with 1 Axes>"
      ]
     },
     "metadata": {
      "needs_background": "light"
     },
     "output_type": "display_data"
    }
   ],
   "source": [
    "# Setting the Figure Size\n",
    "\n",
    "plt.figure(figsize=(12, 9))\n",
    "\n",
    "# Checking for Outliers Again via Box Plot\n",
    "\n",
    "sns.boxplot( x=\"Age\", data= titanic_train_data )\n",
    "\n",
    "# Plotting the Box Plot\n",
    "\n",
    "plt.show()"
   ]
  },
  {
   "cell_type": "markdown",
   "id": "ab159e06",
   "metadata": {},
   "source": [
    "### Inference\n",
    "\n",
    "We can see that there are still some outliers in the range from 65-70 and we will be keeping them.\n",
    "\n",
    "We will be replacing Age with Median after the outlier removal"
   ]
  },
  {
   "cell_type": "code",
   "execution_count": 64,
   "id": "78884b8b",
   "metadata": {},
   "outputs": [],
   "source": [
    "# Replacing Age Column with median after removing outliers from both Train and Test Data\n",
    "\n",
    "titanic_train_data[\"Age\"].fillna(titanic_train_data[\"Age\"].median(skipna=True), inplace=True)\n",
    "\n",
    "titanic_test_data[\"Age\"].fillna(titanic_test_data[\"Age\"].median(skipna=True), inplace=True)"
   ]
  },
  {
   "cell_type": "code",
   "execution_count": 65,
   "id": "a6b11741",
   "metadata": {},
   "outputs": [
    {
     "name": "stdout",
     "output_type": "stream",
     "text": [
      "PassengerId    0\n",
      "Survived       0\n",
      "Pclass         0\n",
      "Name           0\n",
      "Sex            0\n",
      "Age            0\n",
      "SibSp          0\n",
      "Parch          0\n",
      "Ticket         0\n",
      "Fare           0\n",
      "Embarked       2\n",
      "dtype: int64\n",
      "PassengerId    0\n",
      "Pclass         0\n",
      "Name           0\n",
      "Sex            0\n",
      "Age            0\n",
      "SibSp          0\n",
      "Parch          0\n",
      "Ticket         0\n",
      "Fare           1\n",
      "Embarked       0\n",
      "dtype: int64\n"
     ]
    }
   ],
   "source": [
    "# Checking for null values in Train Data and Test Data\n",
    "\n",
    "print(titanic_train_data.isnull().sum())\n",
    "\n",
    "print(titanic_test_data.isnull().sum())"
   ]
  },
  {
   "cell_type": "markdown",
   "id": "b8a80d83",
   "metadata": {},
   "source": [
    "### Inference\n",
    "\n",
    "Here we can see two missing values for Embarked Column\n",
    "\n",
    "We will be replacing it with the most frequently occuring value we see for Embarked."
   ]
  },
  {
   "cell_type": "code",
   "execution_count": 66,
   "id": "e666c48b",
   "metadata": {},
   "outputs": [
    {
     "data": {
      "text/plain": [
       "count     887\n",
       "unique      3\n",
       "top         S\n",
       "freq      642\n",
       "Name: Embarked, dtype: object"
      ]
     },
     "execution_count": 66,
     "metadata": {},
     "output_type": "execute_result"
    }
   ],
   "source": [
    "# Describing the Embark Column\n",
    "\n",
    "titanic_train_data['Embarked'].describe()"
   ]
  },
  {
   "cell_type": "code",
   "execution_count": 67,
   "id": "4307a938",
   "metadata": {},
   "outputs": [],
   "source": [
    "# Here S is top so we will be replacing null values by S\n",
    "\n",
    "# Setting the Frequently Occuring Value\n",
    "\n",
    "freq_occur_value = 'S'\n",
    "\n",
    "# Setting the Titanic Train Data\n",
    "\n",
    "data = [titanic_train_data]\n",
    "\n",
    "# Running a for loop on the Titanic Train Data to fill null values with 'S' (freq_occur_value)\n",
    "\n",
    "for dataset in data:\n",
    "    \n",
    "    dataset['Embarked'] = dataset['Embarked'].fillna(freq_occur_value)"
   ]
  },
  {
   "cell_type": "markdown",
   "id": "2ed5396b",
   "metadata": {},
   "source": [
    "# 3 - Data Visualization ( EDA )"
   ]
  },
  {
   "cell_type": "code",
   "execution_count": 68,
   "id": "aa472ae7",
   "metadata": {},
   "outputs": [
    {
     "data": {
      "image/png": "[encoded data removed]",
      "text/plain": [
       "<Figure size 864x648 with 1 Axes>"
      ]
     },
     "metadata": {
      "needs_background": "light"
     },
     "output_type": "display_data"
    }
   ],
   "source": [
    "# Setting the Figure Size\n",
    "\n",
    "plt.figure(figsize=(12, 9))\n",
    "\n",
    "# Using a Count Plot to check the chances of the Passengers surviving on basis of their Classes in the Ship\n",
    "\n",
    "sns.countplot(x='Survived',hue='Pclass',data= titanic_train_data)\n",
    "\n",
    "# Plotting the Count Plot\n",
    "\n",
    "plt.show()"
   ]
  },
  {
   "cell_type": "markdown",
   "id": "cd498f82",
   "metadata": {},
   "source": [
    "### Inference\n",
    "\n",
    "Passengers in Class 1 have a higher chance of survival than other classes, so we can conclude here that this feature is important. "
   ]
  },
  {
   "cell_type": "code",
   "execution_count": 69,
   "id": "23c05682",
   "metadata": {},
   "outputs": [
    {
     "data": {
      "image/png": "[encoded data removed]",
      "text/plain": [
       "<Figure size 864x648 with 1 Axes>"
      ]
     },
     "metadata": {
      "needs_background": "light"
     },
     "output_type": "display_data"
    }
   ],
   "source": [
    "# Setting the Figure Size\n",
    "\n",
    "plt.figure(figsize=(12, 9))\n",
    "\n",
    "# Using a Count Plot to check the chances of the Passengers surviving on basis of their Sex in the Ship\n",
    "\n",
    "sns.countplot(x='Survived',hue='Sex',data= titanic_train_data)\n",
    "\n",
    "# Plotting the Count Plot\n",
    "\n",
    "plt.show()"
   ]
  },
  {
   "cell_type": "markdown",
   "id": "703a5ecb",
   "metadata": {},
   "source": [
    "### Inference\n",
    "\n",
    "From the above Count Plot we can conclude that Female have a higher chance of survival then Male Passengers."
   ]
  },
  {
   "cell_type": "code",
   "execution_count": 70,
   "id": "fa8fdbd3",
   "metadata": {},
   "outputs": [
    {
     "name": "stderr",
     "output_type": "stream",
     "text": [
      "C:\\Users\\Mrinal Dhar\\anaconda3\\lib\\site-packages\\seaborn\\_decorators.py:36: FutureWarning: Pass the following variables as keyword args: x, y. From version 0.12, the only valid positional argument will be `data`, and passing other arguments without an explicit keyword will result in an error or misinterpretation.\n",
      "  warnings.warn(\n"
     ]
    },
    {
     "data": {
      "image/png": "[encoded data removed]",
      "text/plain": [
       "<Figure size 864x648 with 1 Axes>"
      ]
     },
     "metadata": {
      "needs_background": "light"
     },
     "output_type": "display_data"
    }
   ],
   "source": [
    "# Setting the Figure Size\n",
    "\n",
    "plt.figure(figsize=(12, 9))\n",
    "\n",
    "# Using a Bar Plot to check the chances of the Passengers surviving on basis from where they boarded for the Ship Journey\n",
    "\n",
    "sns.barplot('Embarked', 'Survived', data= titanic_train_data)\n",
    "\n",
    "# Plotting the Count Plot\n",
    "\n",
    "plt.show()"
   ]
  },
  {
   "cell_type": "markdown",
   "id": "a4cf1d74",
   "metadata": {},
   "source": [
    "### Inference\n",
    "\n",
    "- Passengers that have boarded from Cherbourg have a higher chance of survival than other Passengers.\n",
    "\n",
    "\n",
    "\n",
    "- Passengers that have boarded from Queenstown have a higher chance of survival than Passengers who have boarded from Southhampton."
   ]
  },
  {
   "cell_type": "markdown",
   "id": "4f8a92ab",
   "metadata": {},
   "source": [
    "## Dummy Variable Creation"
   ]
  },
  {
   "cell_type": "code",
   "execution_count": 71,
   "id": "2765cddc",
   "metadata": {},
   "outputs": [],
   "source": [
    "# Creating a Dummy Variable for the Train and Test data\n",
    "\n",
    "titanic_train_data = pd.get_dummies(titanic_train_data,columns = [\"Sex\",\"Embarked\"])\n",
    "\n",
    "titanic_test_data = pd.get_dummies(titanic_test_data,columns = [\"Sex\",\"Embarked\"])"
   ]
  },
  {
   "cell_type": "markdown",
   "id": "b3ab87c6",
   "metadata": {},
   "source": [
    "## Correlation Matrix for Train Data"
   ]
  },
  {
   "cell_type": "code",
   "execution_count": 72,
   "id": "8b8a9a58",
   "metadata": {},
   "outputs": [
    {
     "data": {
      "image/png": "[encoded data removed]",
      "text/plain": [
       "<Figure size 1800x1440 with 2 Axes>"
      ]
     },
     "metadata": {
      "needs_background": "light"
     },
     "output_type": "display_data"
    }
   ],
   "source": [
    "# Configuring the figure size\n",
    "\n",
    "plt.figure(figsize = (25,20))\n",
    "\n",
    "# Plotting the heatmap for the new bike sharing dataset\n",
    "\n",
    "sns.heatmap(titanic_train_data.corr(), annot = True, cmap=\"PuBu\")\n",
    "\n",
    "plt.show()"
   ]
  },
  {
   "cell_type": "markdown",
   "id": "37e1393d",
   "metadata": {},
   "source": [
    "### Inference\n",
    "\n",
    "- From the above correlation matrix we can infer that Passenger Id is close to 0 with respect to Survived i.e It does not have any relation with the Survival of the Passenger.\n",
    "\n",
    "\n",
    "\n",
    "\n",
    "- So we can drop Passenger Id along with Parch."
   ]
  },
  {
   "cell_type": "code",
   "execution_count": 73,
   "id": "01bb6b78",
   "metadata": {},
   "outputs": [],
   "source": [
    "# Dropping the columns mentioned in the Inference\n",
    "\n",
    "titanic_drop_column=['PassengerId', 'Parch', 'Ticket','Name']\n",
    "\n",
    "titanic_train_data.drop(titanic_drop_column, axis=1, inplace = True)\n",
    "\n",
    "titanic_test_data.drop(titanic_drop_column, axis=1, inplace = True)"
   ]
  },
  {
   "cell_type": "code",
   "execution_count": 74,
   "id": "7901f884",
   "metadata": {},
   "outputs": [],
   "source": [
    "# Fare has one null value which we will replace with the median \n",
    "\n",
    "titanic_test_data[\"Fare\"].fillna(titanic_test_data[\"Fare\"].median(skipna=True), inplace=True)"
   ]
  },
  {
   "cell_type": "markdown",
   "id": "668f0275",
   "metadata": {},
   "source": [
    "# 4 - Model Building"
   ]
  },
  {
   "cell_type": "markdown",
   "id": "26ddbd34",
   "metadata": {},
   "source": [
    "## Train - Test Split"
   ]
  },
  {
   "cell_type": "code",
   "execution_count": 75,
   "id": "caa86d8a",
   "metadata": {},
   "outputs": [],
   "source": [
    "\n",
    "X = titanic_train_data.drop('Survived',axis=1) # Features / Independent Variable\n",
    "\n",
    "y = titanic_train_data['Survived'] # Target Variable / Dependent Variable\n",
    "\n",
    "X_train, X_test, y_train, y_test = train_test_split(X, y, test_size=0.3, random_state= 100)"
   ]
  },
  {
   "cell_type": "markdown",
   "id": "3c488f0b",
   "metadata": {},
   "source": [
    "## Scaling\n",
    "\n",
    "- The scaling of a feature basically means it has Mean = 0 and Standard Deviation = 1\n",
    "\n",
    "\n",
    "\n",
    "- Convergence Warnings come due to Variables not being Scaled."
   ]
  },
  {
   "cell_type": "code",
   "execution_count": 76,
   "id": "2ef7070f",
   "metadata": {},
   "outputs": [],
   "source": [
    "# Setting the scaler\n",
    "\n",
    "scaler = StandardScaler()\n",
    "\n",
    "# Fitting and Transforming the Model on Train Data\n",
    "\n",
    "X_train = scaler.fit_transform(X_train)\n",
    "\n",
    "# Fitting and Transforming the Model on Train Data\n",
    "\n",
    "X_test = scaler.transform(X_test)"
   ]
  },
  {
   "cell_type": "markdown",
   "id": "c16aeb49",
   "metadata": {},
   "source": [
    "## Applying Logistic Regression Algorithm on Train Data"
   ]
  },
  {
   "cell_type": "code",
   "execution_count": 77,
   "id": "feef1189",
   "metadata": {},
   "outputs": [
    {
     "data": {
      "text/plain": [
       "LogisticRegression()"
      ]
     },
     "execution_count": 77,
     "metadata": {},
     "output_type": "execute_result"
    }
   ],
   "source": [
    "# Setting the Log Model\n",
    "\n",
    "logmodel = LogisticRegression()\n",
    "\n",
    "# Fitting the Log Model\n",
    "\n",
    "logmodel.fit(X_train,y_train)"
   ]
  },
  {
   "cell_type": "code",
   "execution_count": null,
   "id": "dd0ce0f7",
   "metadata": {},
   "outputs": [],
   "source": []
  },
  {
   "cell_type": "markdown",
   "id": "a97b252e",
   "metadata": {},
   "source": [
    "# 5 - Model Evaluation"
   ]
  },
  {
   "cell_type": "markdown",
   "id": "59ec1b3f",
   "metadata": {},
   "source": [
    "## Using Confusion Matrix and Accuracy Score for Prediction"
   ]
  },
  {
   "cell_type": "markdown",
   "id": "2c17fd23",
   "metadata": {},
   "source": [
    "### Prediction on Train Data"
   ]
  },
  {
   "cell_type": "code",
   "execution_count": 80,
   "id": "57d3ce9d",
   "metadata": {},
   "outputs": [
    {
     "data": {
      "text/plain": [
       "array([[329,  59],\n",
       "       [ 66, 168]], dtype=int64)"
      ]
     },
     "execution_count": 80,
     "metadata": {},
     "output_type": "execute_result"
    }
   ],
   "source": [
    "# Confusion Matrix\n",
    "\n",
    "# Setting the Prediction\n",
    "\n",
    "predictions = logmodel.predict(X_train)\n",
    "\n",
    "# Setting the Accuracy\n",
    "\n",
    "accuracy=confusion_matrix(y_train,predictions)\n",
    "\n",
    "# Checking the Accuracy on Train Data\n",
    "\n",
    "accuracy"
   ]
  },
  {
   "cell_type": "code",
   "execution_count": 81,
   "id": "6403b25e",
   "metadata": {},
   "outputs": [
    {
     "data": {
      "text/plain": [
       "0.7990353697749196"
      ]
     },
     "execution_count": 81,
     "metadata": {},
     "output_type": "execute_result"
    }
   ],
   "source": [
    "# Checking the Accuracy Score on Train Data\n",
    "\n",
    "# Setting the Accuracy Score\n",
    "\n",
    "accuracy=accuracy_score(y_train,predictions)\n",
    "\n",
    "# Checking the Accuracy Score\n",
    "\n",
    "accuracy"
   ]
  },
  {
   "cell_type": "markdown",
   "id": "79b394b3",
   "metadata": {},
   "source": [
    "### Prediction on Test Data"
   ]
  },
  {
   "cell_type": "code",
   "execution_count": 78,
   "id": "64ed3e8e",
   "metadata": {},
   "outputs": [
    {
     "data": {
      "text/plain": [
       "array([[138,  22],\n",
       "       [ 30,  77]], dtype=int64)"
      ]
     },
     "execution_count": 78,
     "metadata": {},
     "output_type": "execute_result"
    }
   ],
   "source": [
    "# Confusion Matrix\n",
    "\n",
    "# Setting the Prediction\n",
    "\n",
    "predictions = logmodel.predict(X_test)\n",
    "\n",
    "# Setting the Accuracy\n",
    "\n",
    "accuracy=confusion_matrix(y_test,predictions)\n",
    "\n",
    "# Checking the Accuracy on Test Data\n",
    "\n",
    "accuracy"
   ]
  },
  {
   "cell_type": "code",
   "execution_count": 79,
   "id": "575087df",
   "metadata": {},
   "outputs": [
    {
     "data": {
      "text/plain": [
       "0.8052434456928839"
      ]
     },
     "execution_count": 79,
     "metadata": {},
     "output_type": "execute_result"
    }
   ],
   "source": [
    "# Checking the Accuracy Score on Test Data\n",
    "\n",
    "# Setting the Accuracy Score\n",
    "\n",
    "accuracy=accuracy_score(y_test,predictions)\n",
    "\n",
    "# Checking the Accuracy Score\n",
    "\n",
    "accuracy"
   ]
  },
  {
   "cell_type": "markdown",
   "id": "fe00cac3",
   "metadata": {},
   "source": [
    "# 6 - Final Analysis"
   ]
  },
  {
   "cell_type": "markdown",
   "id": "7bc771bd",
   "metadata": {},
   "source": []
  }
 ],
 "metadata": {
  "kernelspec": {
   "display_name": "Python 3",
   "language": "python",
   "name": "python3"
  },
  "language_info": {
   "codemirror_mode": {
    "name": "ipython",
    "version": 3
   },
   "file_extension": ".py",
   "mimetype": "text/x-python",
   "name": "python",
   "nbconvert_exporter": "python",
   "pygments_lexer": "ipython3",
   "version": "3.8.8"
  }
 },
 "nbformat": 4,
 "nbformat_minor": 5
}
